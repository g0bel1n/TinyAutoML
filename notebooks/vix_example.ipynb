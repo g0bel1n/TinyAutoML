{
 "cells": [
  {
   "cell_type": "code",
   "execution_count": 3,
   "metadata": {},
   "outputs": [],
   "source": [
    "import pandas as pd"
   ]
  },
  {
   "cell_type": "code",
   "execution_count": null,
   "metadata": {},
   "outputs": [],
   "source": []
  },
  {
   "cell_type": "code",
   "execution_count": 4,
   "metadata": {},
   "outputs": [],
   "source": [
    "from TinyAutoML.Models import *\n",
    "from TinyAutoML import MetaPipeline"
   ]
  },
  {
   "cell_type": "code",
   "execution_count": 5,
   "metadata": {},
   "outputs": [],
   "source": [
    "from examples.example_utils import add_AR_cols, create_binary_box"
   ]
  },
  {
   "cell_type": "code",
   "execution_count": 7,
   "metadata": {},
   "outputs": [],
   "source": [
    "df = pd.read_csv(\"examples/database.csv\")\n",
    "df[\"Date\"] = pd.to_datetime(df[\"Date\"])\n",
    "\n",
    "df = (\n",
    "    create_binary_box(df, relative_threshold=0.05, box_length=5)\n",
    "    .set_index(\"Date\")\n",
    "    .dropna(axis=0)\n",
    ")\n",
    "df = add_AR_cols(df, 7).dropna(axis=0)\n",
    "\n",
    "# X,y = df.drop('Box', axis=1)[:'2020'], df['Box'][:'2020']\n",
    "X, y = df.drop(\"Box\", axis=1)[:\"2020\"], df[\"Box\"][:\"2020\"].values\n",
    "\n",
    "cut = int(len(y) * 0.8)\n",
    "\n",
    "X_train, X_test = X.iloc[:cut, :], X.iloc[cut:, :]\n",
    "y_train, y_test = y[:cut], y[cut:]"
   ]
  },
  {
   "cell_type": "code",
   "execution_count": 13,
   "metadata": {},
   "outputs": [
    {
     "name": "stderr",
     "output_type": "stream",
     "text": [
      "[TinyAutoML] Training models...\n",
      "[TinyAutoML] The best estimator is random forest classifier with a cross-validation accuracy (in Sample) of 1.0\n"
     ]
    }
   ],
   "source": [
    "model = BestModel(\n",
    "        comprehensiveSearch=False, parameterTuning=False, metrics=\"accuracy\"\n",
    "    )\n",
    "mp = MetaPipeline(model=model)\n",
    "mp.fit(X_train, y_train)\n",
    "\n",
    "pool = mp.get_pool()\n"
   ]
  },
  {
   "cell_type": "code",
   "execution_count": 6,
   "metadata": {},
   "outputs": [
    {
     "name": "stderr",
     "output_type": "stream",
     "text": [
      "[TinyAutoML] Training models...\n"
     ]
    },
    {
     "data": {
      "text/plain": [
       "MetaPipeline(('model', Democratic Model))"
      ]
     },
     "execution_count": 6,
     "metadata": {},
     "output_type": "execute_result"
    }
   ],
   "source": [
    "\n",
    "model_2 = DemocraticModel(\n",
    "    comprehensiveSearch=False, parameterTuning=False, metrics=\"accuracy\"\n",
    ")\n",
    "mp_2 = MetaPipeline(model=model_2)\n",
    "mp_2.fit(X_train, y_train, pool=pool)\n"
   ]
  },
  {
   "cell_type": "code",
   "execution_count": 7,
   "metadata": {},
   "outputs": [
    {
     "name": "stderr",
     "output_type": "stream",
     "text": [
      "[TinyAutoML] Training models...\n"
     ]
    },
    {
     "data": {
      "text/plain": [
       "MetaPipeline(('model', ORFA))"
      ]
     },
     "execution_count": 7,
     "metadata": {},
     "output_type": "execute_result"
    }
   ],
   "source": [
    "\n",
    "model_3 = OneRulerForAll(\n",
    "    comprehensiveSearch=False, parameterTuning=False, metrics=\"accuracy\"\n",
    ")\n",
    "mp_3 = MetaPipeline(model=model_3)\n",
    "mp_3.fit(X_train, y_train, pool=pool)\n"
   ]
  },
  {
   "cell_type": "code",
   "execution_count": 8,
   "metadata": {},
   "outputs": [
    {
     "name": "stdout",
     "output_type": "stream",
     "text": [
      "              precision    recall  f1-score   support\n",
      "\n",
      "           0       0.69      0.66      0.68       381\n",
      "           1       0.64      0.66      0.65       339\n",
      "\n",
      "    accuracy                           0.66       720\n",
      "   macro avg       0.66      0.66      0.66       720\n",
      "weighted avg       0.66      0.66      0.66       720\n",
      "\n"
     ]
    }
   ],
   "source": [
    "\n",
    "mp_2.classification_report(X_test, y_test)\n"
   ]
  },
  {
   "cell_type": "code",
   "execution_count": 9,
   "metadata": {},
   "outputs": [
    {
     "name": "stdout",
     "output_type": "stream",
     "text": [
      "              precision    recall  f1-score   support\n",
      "\n",
      "           0       0.65      0.77      0.71       381\n",
      "           1       0.68      0.54      0.60       339\n",
      "\n",
      "    accuracy                           0.66       720\n",
      "   macro avg       0.66      0.65      0.65       720\n",
      "weighted avg       0.66      0.66      0.66       720\n",
      "\n"
     ]
    }
   ],
   "source": [
    "\n",
    "mp.classification_report(X_test, y_test)\n"
   ]
  },
  {
   "cell_type": "code",
   "execution_count": 10,
   "metadata": {},
   "outputs": [
    {
     "name": "stdout",
     "output_type": "stream",
     "text": [
      "              precision    recall  f1-score   support\n",
      "\n",
      "           0       0.67      0.73      0.70       381\n",
      "           1       0.66      0.60      0.63       339\n",
      "\n",
      "    accuracy                           0.67       720\n",
      "   macro avg       0.67      0.66      0.66       720\n",
      "weighted avg       0.67      0.67      0.67       720\n",
      "\n"
     ]
    }
   ],
   "source": [
    "\n",
    "mp_3.classification_report(X_test, y_test)"
   ]
  }
 ],
 "metadata": {
  "interpreter": {
   "hash": "532c53cb3a9be90ef91a294ca80378ed859131741d038bbea018585e98254512"
  },
  "kernelspec": {
   "display_name": "Python 3.9.12 ('tinyautoml_minimal')",
   "language": "python",
   "name": "python3"
  },
  "language_info": {
   "codemirror_mode": {
    "name": "ipython",
    "version": 3
   },
   "file_extension": ".py",
   "mimetype": "text/x-python",
   "name": "python",
   "nbconvert_exporter": "python",
   "pygments_lexer": "ipython3",
   "version": "3.9.12"
  },
  "orig_nbformat": 4
 },
 "nbformat": 4,
 "nbformat_minor": 2
}
