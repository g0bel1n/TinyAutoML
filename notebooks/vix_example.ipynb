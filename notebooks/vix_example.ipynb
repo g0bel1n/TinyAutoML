{
 "cells": [
  {
   "cell_type": "code",
   "execution_count": 1,
   "metadata": {},
   "outputs": [],
   "source": [
    "import os\n",
    "import pandas as pd\n",
    "#os.chdir('..')"
   ]
  },
  {
   "cell_type": "code",
   "execution_count": 2,
   "metadata": {},
   "outputs": [
    {
     "ename": "ModuleNotFoundError",
     "evalue": "No module named 'TinyAutoML.Models.MetaModels'",
     "output_type": "error",
     "traceback": [
      "\u001b[0;31m---------------------------------------------------------------------------\u001b[0m",
      "\u001b[0;31mModuleNotFoundError\u001b[0m                       Traceback (most recent call last)",
      "\u001b[1;32m/Users/g0bel1n/PycharmProjects/TinyAutoML/notebooks/vix_example.ipynb Cell 2'\u001b[0m in \u001b[0;36m<cell line: 1>\u001b[0;34m()\u001b[0m\n\u001b[0;32m----> <a href='vscode-notebook-cell:/Users/g0bel1n/PycharmProjects/TinyAutoML/notebooks/vix_example.ipynb#ch0000001?line=0'>1</a>\u001b[0m \u001b[39mfrom\u001b[39;00m \u001b[39mTinyAutoML\u001b[39;00m\u001b[39m.\u001b[39;00m\u001b[39mModels\u001b[39;00m \u001b[39mimport\u001b[39;00m \u001b[39m*\u001b[39m\n\u001b[1;32m      <a href='vscode-notebook-cell:/Users/g0bel1n/PycharmProjects/TinyAutoML/notebooks/vix_example.ipynb#ch0000001?line=1'>2</a>\u001b[0m \u001b[39mfrom\u001b[39;00m \u001b[39mTinyAutoML\u001b[39;00m \u001b[39mimport\u001b[39;00m MetaPipeline\n",
      "File \u001b[0;32m~/opt/anaconda3/envs/tinyautoml_minimal/lib/python3.9/site-packages/TinyAutoML/__init__.py:1\u001b[0m, in \u001b[0;36m<module>\u001b[0;34m\u001b[0m\n\u001b[0;32m----> <a href='file:///Users/g0bel1n/opt/anaconda3/envs/tinyautoml_minimal/lib/python3.9/site-packages/TinyAutoML/__init__.py?line=0'>1</a>\u001b[0m \u001b[39mfrom\u001b[39;00m \u001b[39m.\u001b[39;00m\u001b[39mMetaPipeline\u001b[39;00m \u001b[39mimport\u001b[39;00m MetaPipeline\n\u001b[1;32m      <a href='file:///Users/g0bel1n/opt/anaconda3/envs/tinyautoml_minimal/lib/python3.9/site-packages/TinyAutoML/__init__.py?line=2'>3</a>\u001b[0m __all__ \u001b[39m=\u001b[39m [\u001b[39m\"\u001b[39m\u001b[39mMetaPipeline\u001b[39m\u001b[39m\"\u001b[39m]\n",
      "File \u001b[0;32m~/opt/anaconda3/envs/tinyautoml_minimal/lib/python3.9/site-packages/TinyAutoML/MetaPipeline.py:12\u001b[0m, in \u001b[0;36m<module>\u001b[0;34m\u001b[0m\n\u001b[1;32m      <a href='file:///Users/g0bel1n/opt/anaconda3/envs/tinyautoml_minimal/lib/python3.9/site-packages/TinyAutoML/MetaPipeline.py?line=8'>9</a>\u001b[0m \u001b[39mfrom\u001b[39;00m \u001b[39msklearn\u001b[39;00m\u001b[39m.\u001b[39;00m\u001b[39mpipeline\u001b[39;00m \u001b[39mimport\u001b[39;00m Pipeline\n\u001b[1;32m     <a href='file:///Users/g0bel1n/opt/anaconda3/envs/tinyautoml_minimal/lib/python3.9/site-packages/TinyAutoML/MetaPipeline.py?line=10'>11</a>\u001b[0m \u001b[39mfrom\u001b[39;00m \u001b[39m.\u001b[39;00m\u001b[39mbuilders\u001b[39;00m \u001b[39mimport\u001b[39;00m buildMetaPipeline\n\u001b[0;32m---> <a href='file:///Users/g0bel1n/opt/anaconda3/envs/tinyautoml_minimal/lib/python3.9/site-packages/TinyAutoML/MetaPipeline.py?line=11'>12</a>\u001b[0m \u001b[39mfrom\u001b[39;00m \u001b[39m.\u001b[39;00m\u001b[39mModels\u001b[39;00m \u001b[39mimport\u001b[39;00m EstimatorPool, EstimatorPoolCV, MetaModel\n\u001b[1;32m     <a href='file:///Users/g0bel1n/opt/anaconda3/envs/tinyautoml_minimal/lib/python3.9/site-packages/TinyAutoML/MetaPipeline.py?line=13'>14</a>\u001b[0m logger \u001b[39m=\u001b[39m logging\u001b[39m.\u001b[39mgetLogger(\u001b[39m__name__\u001b[39m)\n\u001b[1;32m     <a href='file:///Users/g0bel1n/opt/anaconda3/envs/tinyautoml_minimal/lib/python3.9/site-packages/TinyAutoML/MetaPipeline.py?line=14'>15</a>\u001b[0m logging\u001b[39m.\u001b[39mbasicConfig(level\u001b[39m=\u001b[39mlogging\u001b[39m.\u001b[39mINFO)\n",
      "File \u001b[0;32m~/opt/anaconda3/envs/tinyautoml_minimal/lib/python3.9/site-packages/TinyAutoML/Models/__init__.py:1\u001b[0m, in \u001b[0;36m<module>\u001b[0;34m\u001b[0m\n\u001b[0;32m----> <a href='file:///Users/g0bel1n/opt/anaconda3/envs/tinyautoml_minimal/lib/python3.9/site-packages/TinyAutoML/Models/__init__.py?line=0'>1</a>\u001b[0m \u001b[39mfrom\u001b[39;00m \u001b[39m.\u001b[39;00m\u001b[39mMetaModels\u001b[39;00m\u001b[39m.\u001b[39;00m\u001b[39mDemocraticModel\u001b[39;00m \u001b[39mimport\u001b[39;00m DemocraticModel\n\u001b[1;32m      <a href='file:///Users/g0bel1n/opt/anaconda3/envs/tinyautoml_minimal/lib/python3.9/site-packages/TinyAutoML/Models/__init__.py?line=1'>2</a>\u001b[0m \u001b[39mfrom\u001b[39;00m \u001b[39m.\u001b[39;00m\u001b[39mMetaModels\u001b[39;00m\u001b[39m.\u001b[39;00m\u001b[39mBestModel\u001b[39;00m \u001b[39mimport\u001b[39;00m BestModel\n\u001b[1;32m      <a href='file:///Users/g0bel1n/opt/anaconda3/envs/tinyautoml_minimal/lib/python3.9/site-packages/TinyAutoML/Models/__init__.py?line=2'>3</a>\u001b[0m \u001b[39mfrom\u001b[39;00m \u001b[39m.\u001b[39;00m\u001b[39mMetaModels\u001b[39;00m\u001b[39m.\u001b[39;00m\u001b[39mOneRulerForAll\u001b[39;00m \u001b[39mimport\u001b[39;00m OneRulerForAll\n",
      "\u001b[0;31mModuleNotFoundError\u001b[0m: No module named 'TinyAutoML.Models.MetaModels'"
     ]
    }
   ],
   "source": [
    "from TinyAutoML.Models import *\n",
    "from TinyAutoML import MetaPipeline"
   ]
  },
  {
   "cell_type": "code",
   "execution_count": 4,
   "metadata": {},
   "outputs": [
    {
     "ename": "ImportError",
     "evalue": "attempted relative import with no known parent package",
     "output_type": "error",
     "traceback": [
      "\u001b[0;31m---------------------------------------------------------------------------\u001b[0m",
      "\u001b[0;31mImportError\u001b[0m                               Traceback (most recent call last)",
      "\u001b[1;32m/Users/g0bel1n/PycharmProjects/TinyAutoML/notebooks/vix_example.ipynb Cell 3'\u001b[0m in \u001b[0;36m<cell line: 1>\u001b[0;34m()\u001b[0m\n\u001b[0;32m----> <a href='vscode-notebook-cell:/Users/g0bel1n/PycharmProjects/TinyAutoML/notebooks/vix_example.ipynb#ch0000002?line=0'>1</a>\u001b[0m \u001b[39mfrom\u001b[39;00m \u001b[39m.\u001b[39;00m\u001b[39m.\u001b[39;00m\u001b[39mexamples\u001b[39;00m\u001b[39m.\u001b[39;00m\u001b[39mexample_utils\u001b[39;00m \u001b[39mimport\u001b[39;00m add_AR_cols, create_binary_box\n",
      "\u001b[0;31mImportError\u001b[0m: attempted relative import with no known parent package"
     ]
    }
   ],
   "source": [
    "from ..examples.example_utils import add_AR_cols, create_binary_box"
   ]
  },
  {
   "cell_type": "code",
   "execution_count": 15,
   "metadata": {},
   "outputs": [],
   "source": [
    "df = pd.read_csv(\"examples/database.csv\")\n",
    "df[\"Date\"] = pd.to_datetime(df[\"Date\"])\n",
    "\n",
    "df = (\n",
    "    create_binary_box(df, relative_threshold=0.05, box_length=5)\n",
    "    .set_index(\"Date\")\n",
    "    .dropna(axis=0)\n",
    ")\n",
    "df = add_AR_cols(df, 7).dropna(axis=0)\n",
    "\n",
    "# X,y = df.drop('Box', axis=1)[:'2020'], df['Box'][:'2020']\n",
    "X, y = df.drop(\"Box\", axis=1)[:\"2020\"], df[\"Box\"][:\"2020\"].values\n",
    "\n",
    "cut = int(len(y) * 0.8)\n",
    "\n",
    "X_train, X_test = X.iloc[:cut, :], X.iloc[cut:, :]\n",
    "y_train, y_test = y[:cut], y[cut:]"
   ]
  },
  {
   "cell_type": "code",
   "execution_count": 5,
   "metadata": {},
   "outputs": [
    {
     "name": "stderr",
     "output_type": "stream",
     "text": [
      "[TinyAutoML] Training models...\n",
      "[TinyAutoML] The best estimator is random forest classifier with a cross-validation accuracy (in Sample) of 1.0\n"
     ]
    }
   ],
   "source": [
    "model = BestModel(\n",
    "        comprehensiveSearch=False, parameterTuning=False, metrics=\"accuracy\"\n",
    "    )\n",
    "mp = MetaPipeline(model=model)\n",
    "mp.fit(X_train, y_train)\n",
    "\n",
    "pool = mp.get_pool()\n"
   ]
  },
  {
   "cell_type": "code",
   "execution_count": 6,
   "metadata": {},
   "outputs": [
    {
     "name": "stderr",
     "output_type": "stream",
     "text": [
      "[TinyAutoML] Training models...\n"
     ]
    },
    {
     "data": {
      "text/plain": [
       "MetaPipeline(('model', Democratic Model))"
      ]
     },
     "execution_count": 6,
     "metadata": {},
     "output_type": "execute_result"
    }
   ],
   "source": [
    "\n",
    "model_2 = DemocraticModel(\n",
    "    comprehensiveSearch=False, parameterTuning=False, metrics=\"accuracy\"\n",
    ")\n",
    "mp_2 = MetaPipeline(model=model_2)\n",
    "mp_2.fit(X_train, y_train, pool=pool)\n"
   ]
  },
  {
   "cell_type": "code",
   "execution_count": 7,
   "metadata": {},
   "outputs": [
    {
     "name": "stderr",
     "output_type": "stream",
     "text": [
      "[TinyAutoML] Training models...\n"
     ]
    },
    {
     "data": {
      "text/plain": [
       "MetaPipeline(('model', ORFA))"
      ]
     },
     "execution_count": 7,
     "metadata": {},
     "output_type": "execute_result"
    }
   ],
   "source": [
    "\n",
    "model_3 = OneRulerForAll(\n",
    "    comprehensiveSearch=False, parameterTuning=False, metrics=\"accuracy\"\n",
    ")\n",
    "mp_3 = MetaPipeline(model=model_3)\n",
    "mp_3.fit(X_train, y_train, pool=pool)\n"
   ]
  },
  {
   "cell_type": "code",
   "execution_count": 8,
   "metadata": {},
   "outputs": [
    {
     "name": "stdout",
     "output_type": "stream",
     "text": [
      "              precision    recall  f1-score   support\n",
      "\n",
      "           0       0.69      0.66      0.68       381\n",
      "           1       0.64      0.66      0.65       339\n",
      "\n",
      "    accuracy                           0.66       720\n",
      "   macro avg       0.66      0.66      0.66       720\n",
      "weighted avg       0.66      0.66      0.66       720\n",
      "\n"
     ]
    }
   ],
   "source": [
    "\n",
    "mp_2.classification_report(X_test, y_test)\n"
   ]
  },
  {
   "cell_type": "code",
   "execution_count": 9,
   "metadata": {},
   "outputs": [
    {
     "name": "stdout",
     "output_type": "stream",
     "text": [
      "              precision    recall  f1-score   support\n",
      "\n",
      "           0       0.65      0.77      0.71       381\n",
      "           1       0.68      0.54      0.60       339\n",
      "\n",
      "    accuracy                           0.66       720\n",
      "   macro avg       0.66      0.65      0.65       720\n",
      "weighted avg       0.66      0.66      0.66       720\n",
      "\n"
     ]
    }
   ],
   "source": [
    "\n",
    "mp.classification_report(X_test, y_test)\n"
   ]
  },
  {
   "cell_type": "code",
   "execution_count": 10,
   "metadata": {},
   "outputs": [
    {
     "name": "stdout",
     "output_type": "stream",
     "text": [
      "              precision    recall  f1-score   support\n",
      "\n",
      "           0       0.67      0.73      0.70       381\n",
      "           1       0.66      0.60      0.63       339\n",
      "\n",
      "    accuracy                           0.67       720\n",
      "   macro avg       0.67      0.66      0.66       720\n",
      "weighted avg       0.67      0.67      0.67       720\n",
      "\n"
     ]
    }
   ],
   "source": [
    "\n",
    "mp_3.classification_report(X_test, y_test)"
   ]
  }
 ],
 "metadata": {
  "interpreter": {
   "hash": "532c53cb3a9be90ef91a294ca80378ed859131741d038bbea018585e98254512"
  },
  "kernelspec": {
   "display_name": "Python 3.9.12 ('tinyautoml_minimal')",
   "language": "python",
   "name": "python3"
  },
  "language_info": {
   "codemirror_mode": {
    "name": "ipython",
    "version": 3
   },
   "file_extension": ".py",
   "mimetype": "text/x-python",
   "name": "python",
   "nbconvert_exporter": "python",
   "pygments_lexer": "ipython3",
   "version": "3.9.12"
  },
  "orig_nbformat": 4
 },
 "nbformat": 4,
 "nbformat_minor": 2
}
