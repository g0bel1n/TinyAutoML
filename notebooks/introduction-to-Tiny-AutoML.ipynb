{
 "cells": [
  {
   "cell_type": "markdown",
   "metadata": {},
   "source": [
    "<h1 align=\"center\">\n",
    "  <img alt=\"TinyAutoML Logo\" src=\"https://user-images.githubusercontent.com/73651505/166115086-2cd01294-75ed-4e36-a65f-419c530a0dbe.png\" width=\"448px\"/><br/>\n",
    "</h1>\n",
    "\n",
    "\n",
    "<p align=\"center\">TinyAutoML is a Machine Learning Python3.9 library thought as an extension of Scikit-Learn.<br/> It builds an <b>adaptable</b> and <b>auto-tuned</b> pipeline to handle binary classification tasks.<br/> </p>\n",
    "\n",
    "\n",
    "<p align=\"center\">\n",
    "<a href=\"https://github.com/g0bel1n/TinyAutoML/actions/workflows/python-app.yml\" \n",
    "target=\"_blank\"><img src=\"https://github.com/g0bel1n/TinyAutoML/actions/workflows/python-app.yml/badge.svg?branch=master\" alt=\"Tests\" /></a>\n",
    "<img src=\"https://img.shields.io/github/license/g0bel1n/TinyAutoML?style=flat-square\" alt=\"Licence MIT\" />\n",
    "<img src=\"https://img.shields.io/pypi/v/TinyAutoML?style=flat-square\" alt=\"Pypi\" />\n",
    "<img src=\"https://img.shields.io/github/repo-size/g0bel1N/TinyAutoML?style=flat-square\" alt=\"Size\" />\n",
    "<img src=\"https://img.shields.io/github/commit-activity/m/g0bel1n/TinyAutoML?style=flat-square\" alt=\"Commits\" />\n",
    "<a href=\"https://www.python.org/downloads/release/python-390/\" \n",
    "target=\"_blank\"><img src=\"https://img.shields.io/badge/python-3.9-blue.svg\" alt=\"Python Version\" /></a>\n",
    "</p>\n",
    "\n",
    "---\n",
    "\n",
    "<p align=\"center\">\n",
    "In a few words, your data goes through 2 main preprocessing steps. <br/>\n",
    "The first one is scaling and NonStationnarity correction, which is followed by Lasso Feature selection.<br/>\n",
    "Finally, one of the three <b>MetaModels</b> is fitted on the transformed data.\n",
    "</p>\n",
    "\n",
    "\n",
    "---"
   ]
  },
  {
   "cell_type": "markdown",
   "metadata": {},
   "source": [
    "### Latest News ! :\n",
    "\n",
    "* Logging format changed from default to [TinyAutoML]\n",
    "* Added Github Actions Workflow for CI, for updating the README.md !\n",
    "* Added parallel computation of LassoFeatureSelector\n",
    "* New example notebook based on VIX index directionnal forecasting\n"
   ]
  },
  {
   "cell_type": "markdown",
   "metadata": {},
   "source": [
    "## ⚡️ Quick start \n",
    "\n",
    "First, let's install and import the library !"
   ]
  },
  {
   "cell_type": "markdown",
   "metadata": {
    "execution": {
     "iopub.execute_input": "2022-04-30T16:07:35.254108Z",
     "iopub.status.busy": "2022-04-30T16:07:35.253621Z",
     "iopub.status.idle": "2022-04-30T16:07:38.177750Z",
     "shell.execute_reply": "2022-04-30T16:07:38.176471Z"
    }
   },
   "source": [
    "- Install the last release using pip\n",
    "\n",
    "    ```python\n",
    "    %pip install TinyAutoML\n",
    "    ````"
   ]
  },
  {
   "cell_type": "code",
   "execution_count": 2,
   "metadata": {
    "execution": {
     "iopub.execute_input": "2022-04-30T16:07:38.183588Z",
     "iopub.status.busy": "2022-04-30T16:07:38.183113Z",
     "iopub.status.idle": "2022-04-30T16:07:38.187340Z",
     "shell.execute_reply": "2022-04-30T16:07:38.186582Z"
    }
   },
   "outputs": [],
   "source": [
    "import os\n",
    "os.chdir('..') #For Github CI, you don't have to run that"
   ]
  },
  {
   "cell_type": "code",
   "execution_count": 3,
   "metadata": {
    "execution": {
     "iopub.execute_input": "2022-04-30T16:07:38.190827Z",
     "iopub.status.busy": "2022-04-30T16:07:38.190569Z",
     "iopub.status.idle": "2022-04-30T16:07:40.771483Z",
     "shell.execute_reply": "2022-04-30T16:07:40.770569Z"
    }
   },
   "outputs": [],
   "source": [
    "from TinyAutoML.Models import *\n",
    "from TinyAutoML import MetaPipeline"
   ]
  },
  {
   "cell_type": "markdown",
   "metadata": {},
   "source": [
    "## MetaModels\n",
    "\n",
    "MetaModels inherit from the MetaModel Abstract Class. They all implement ensemble methods and therefore are based on EstimatorPools.\n",
    "\n",
    "When training EstimatorPools, you are faced with a choice :  doing parameterTuning on entire pipelines with the estimators on the top or training the estimators using the same pipeline and only training the top. The first case refers to what we will be calling **comprehensiveSearch**.\n",
    "\n",
    "Moreover, as we will see in details later, those EstimatorPools can be shared across MetaModels.\n",
    "\n",
    "They are all initialised with those minimum arguments :\n",
    "\n",
    "```python\n",
    "MetaModel(comprehensiveSearch: bool = True, parameterTuning: bool = True, metrics: str = 'accuracy', nSplits: int=10)\n",
    "```\n",
    "- nSplits corresponds to the number of split of the cross validation\n",
    "- The other parameters are equivoque\n",
    "\n",
    "\n",
    "**They need to be put in the MetaPipeline wrapper to work**"
   ]
  },
  {
   "cell_type": "markdown",
   "metadata": {},
   "source": [
    "**There are 3 MetaModels**\n",
    "\n",
    "1- BestModel : selects the best performing model of the pool"
   ]
  },
  {
   "cell_type": "code",
   "execution_count": 4,
   "metadata": {
    "execution": {
     "iopub.execute_input": "2022-04-30T16:07:40.775149Z",
     "iopub.status.busy": "2022-04-30T16:07:40.774918Z",
     "iopub.status.idle": "2022-04-30T16:07:40.786762Z",
     "shell.execute_reply": "2022-04-30T16:07:40.786178Z"
    }
   },
   "outputs": [],
   "source": [
    "best_model = MetaPipeline(BestModel(comprehensiveSearch = False, parameterTuning = False))"
   ]
  },
  {
   "cell_type": "markdown",
   "metadata": {},
   "source": [
    "2- OneRulerForAll : implements Stacking using a RandomForestClassifier by default. The user is free to use another classifier using the ruler arguments"
   ]
  },
  {
   "cell_type": "code",
   "execution_count": 5,
   "metadata": {
    "execution": {
     "iopub.execute_input": "2022-04-30T16:07:40.789797Z",
     "iopub.status.busy": "2022-04-30T16:07:40.789581Z",
     "iopub.status.idle": "2022-04-30T16:07:40.792540Z",
     "shell.execute_reply": "2022-04-30T16:07:40.792120Z"
    }
   },
   "outputs": [],
   "source": [
    "orfa_model = MetaPipeline(OneRulerForAll(comprehensiveSearch=False, parameterTuning=False))"
   ]
  },
  {
   "cell_type": "markdown",
   "metadata": {},
   "source": [
    "3- DemocraticModel : implements Soft and Hard voting models through the voting argument"
   ]
  },
  {
   "cell_type": "code",
   "execution_count": 6,
   "metadata": {
    "execution": {
     "iopub.execute_input": "2022-04-30T16:07:40.795251Z",
     "iopub.status.busy": "2022-04-30T16:07:40.795044Z",
     "iopub.status.idle": "2022-04-30T16:07:40.798041Z",
     "shell.execute_reply": "2022-04-30T16:07:40.797573Z"
    }
   },
   "outputs": [],
   "source": [
    "democratic_model = MetaPipeline(DemocraticModel(comprehensiveSearch=False, parameterTuning=False, voting='soft'))"
   ]
  },
  {
   "cell_type": "markdown",
   "metadata": {},
   "source": [
    "As of release v0.2.3.2 (13/04/2022) there are 5 models on which these MetaModels rely in the EstimatorPool:\n",
    "- Random Forest Classifier\n",
    "- Logistic Regression\n",
    "- Gaussian Naive Bayes\n",
    "- Linear Discriminant Analysis\n",
    "- XGBoost\n",
    "\n",
    "\n",
    "***\n",
    "\n",
    "\n",
    "We'll use the breast_cancer dataset from sklearn as an example:"
   ]
  },
  {
   "cell_type": "code",
   "execution_count": 7,
   "metadata": {
    "execution": {
     "iopub.execute_input": "2022-04-30T16:07:40.800576Z",
     "iopub.status.busy": "2022-04-30T16:07:40.800409Z",
     "iopub.status.idle": "2022-04-30T16:07:40.888157Z",
     "shell.execute_reply": "2022-04-30T16:07:40.887235Z"
    }
   },
   "outputs": [],
   "source": [
    "import pandas as pd\n",
    "from sklearn.datasets import load_breast_cancer\n",
    "\n",
    "cancer = load_breast_cancer()\n",
    " \n",
    "X = pd.DataFrame(data=cancer.data, columns=cancer.feature_names)\n",
    "y = cancer.target\n",
    "\n",
    "cut = int(len(y) * 0.8)\n",
    "\n",
    "X_train, X_test = X[:cut], X[cut:]\n",
    "y_train, y_test = y[:cut], y[cut:]"
   ]
  },
  {
   "cell_type": "markdown",
   "metadata": {},
   "source": [
    "Let's train a BestModel first and reuse its Pool for the other MetaModels"
   ]
  },
  {
   "cell_type": "code",
   "execution_count": 8,
   "metadata": {
    "execution": {
     "iopub.execute_input": "2022-04-30T16:07:40.891539Z",
     "iopub.status.busy": "2022-04-30T16:07:40.891324Z",
     "iopub.status.idle": "2022-04-30T16:07:49.827993Z",
     "shell.execute_reply": "2022-04-30T16:07:49.827296Z"
    }
   },
   "outputs": [
    {
     "name": "stderr",
     "output_type": "stream",
     "text": [
      "[TinyAutoML] Training models...\n",
      "[TinyAutoML] The best estimator is random forest classifier with a cross-validation accuracy (in Sample) of 1.0\n"
     ]
    },
    {
     "data": {
      "text/plain": [
       "MetaPipeline(model=BestModel(comprehensiveSearch=False, parameterTuning=False))"
      ]
     },
     "execution_count": 8,
     "metadata": {},
     "output_type": "execute_result"
    }
   ],
   "source": [
    "best_model.fit(X_train,y_train)"
   ]
  },
  {
   "cell_type": "markdown",
   "metadata": {},
   "source": [
    "We can now extract the pool"
   ]
  },
  {
   "cell_type": "code",
   "execution_count": 9,
   "metadata": {
    "execution": {
     "iopub.execute_input": "2022-04-30T16:07:49.831406Z",
     "iopub.status.busy": "2022-04-30T16:07:49.831187Z",
     "iopub.status.idle": "2022-04-30T16:07:49.834358Z",
     "shell.execute_reply": "2022-04-30T16:07:49.833812Z"
    }
   },
   "outputs": [],
   "source": [
    "pool = best_model.get_pool()"
   ]
  },
  {
   "cell_type": "markdown",
   "metadata": {},
   "source": [
    "And use it when fitting the other MetaModels to skip the fitting of the underlying models:"
   ]
  },
  {
   "cell_type": "code",
   "execution_count": 10,
   "metadata": {
    "execution": {
     "iopub.execute_input": "2022-04-30T16:07:49.837160Z",
     "iopub.status.busy": "2022-04-30T16:07:49.836956Z",
     "iopub.status.idle": "2022-04-30T16:07:50.320643Z",
     "shell.execute_reply": "2022-04-30T16:07:50.320105Z"
    }
   },
   "outputs": [
    {
     "name": "stderr",
     "output_type": "stream",
     "text": [
      "[TinyAutoML] Training models...\n",
      "[TinyAutoML] Training models...\n"
     ]
    },
    {
     "data": {
      "text/plain": [
       "MetaPipeline(('model', Democratic Model))"
      ]
     },
     "execution_count": 10,
     "metadata": {},
     "output_type": "execute_result"
    }
   ],
   "source": [
    "orfa_model.fit(X_train,y_train,pool=pool)\n",
    "democratic_model.fit(X_train,y_train,pool=pool)"
   ]
  },
  {
   "cell_type": "markdown",
   "metadata": {},
   "source": [
    "Great ! Let's look at the results with the sk_learn classification report :"
   ]
  },
  {
   "cell_type": "code",
   "execution_count": 11,
   "metadata": {
    "execution": {
     "iopub.execute_input": "2022-04-30T16:07:50.323503Z",
     "iopub.status.busy": "2022-04-30T16:07:50.323318Z",
     "iopub.status.idle": "2022-04-30T16:07:50.359471Z",
     "shell.execute_reply": "2022-04-30T16:07:50.358951Z"
    }
   },
   "outputs": [
    {
     "name": "stdout",
     "output_type": "stream",
     "text": [
      "              precision    recall  f1-score   support\n",
      "\n",
      "           0       0.92      0.92      0.92        26\n",
      "           1       0.98      0.98      0.98        88\n",
      "\n",
      "    accuracy                           0.96       114\n",
      "   macro avg       0.95      0.95      0.95       114\n",
      "weighted avg       0.96      0.96      0.96       114\n",
      "\n"
     ]
    }
   ],
   "source": [
    "orfa_model.classification_report(X_test,y_test)"
   ]
  },
  {
   "cell_type": "markdown",
   "metadata": {},
   "source": [
    "Looking good! What about the ROC Curve ?"
   ]
  },
  {
   "cell_type": "code",
   "execution_count": 12,
   "metadata": {
    "execution": {
     "iopub.execute_input": "2022-04-30T16:07:50.362470Z",
     "iopub.status.busy": "2022-04-30T16:07:50.362116Z",
     "iopub.status.idle": "2022-04-30T16:07:50.533846Z",
     "shell.execute_reply": "2022-04-30T16:07:50.532935Z"
    }
   },
   "outputs": [
    {
     "data": {
      "image/png": "[encoded data removed]",
      "text/plain": [
       "<Figure size 432x288 with 1 Axes>"
      ]
     },
     "metadata": {
      "needs_background": "light"
     },
     "output_type": "display_data"
    }
   ],
   "source": [
    "democratic_model.roc_curve(X_test,y_test)"
   ]
  },
  {
   "cell_type": "markdown",
   "metadata": {},
   "source": [
    "Let's see how the estimators of the pool are doing individually:"
   ]
  },
  {
   "cell_type": "code",
   "execution_count": 13,
   "metadata": {
    "execution": {
     "iopub.execute_input": "2022-04-30T16:07:50.537256Z",
     "iopub.status.busy": "2022-04-30T16:07:50.536769Z",
     "iopub.status.idle": "2022-04-30T16:07:50.561361Z",
     "shell.execute_reply": "2022-04-30T16:07:50.560668Z"
    }
   },
   "outputs": [
    {
     "data": {
      "text/plain": [
       "[('random forest classifier', 1.0),\n",
       " ('Logistic Regression', 0.9473684210526315),\n",
       " ('Gaussian Naive Bayes', 0.956140350877193),\n",
       " ('LDA', 0.9473684210526315),\n",
       " ('xgb', 0.956140350877193)]"
      ]
     },
     "execution_count": 13,
     "metadata": {},
     "output_type": "execute_result"
    }
   ],
   "source": [
    "best_model.get_scores(X_test,y_test)"
   ]
  },
  {
   "cell_type": "markdown",
   "metadata": {},
   "source": [
    "## What's next ? \n",
    "\n",
    "You can do the same steps with comprehensiveSearch set to True if you have the time and if you want to improve your results. You can also try new rulers and so on."
   ]
  },
  {
   "cell_type": "markdown",
   "metadata": {},
   "source": [
    "Maria, Thomas and Lucas."
   ]
  }
 ],
 "metadata": {
  "interpreter": {
   "hash": "aee8b7b246df8f9039afb4144a1f6fd8d2ca17a180786b69acc140d282b71a49"
  },
  "kernelspec": {
   "display_name": "Python 3.9.12 64-bit",
   "language": "python",
   "name": "python3"
  },
  "language_info": {
   "codemirror_mode": {
    "name": "ipython",
    "version": 3
   },
   "file_extension": ".py",
   "mimetype": "text/x-python",
   "name": "python",
   "nbconvert_exporter": "python",
   "pygments_lexer": "ipython3",
   "version": "3.9.12"
  }
 },
 "nbformat": 4,
 "nbformat_minor": 2
}
