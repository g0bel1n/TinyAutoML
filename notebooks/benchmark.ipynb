{
 "cells": [
  {
   "cell_type": "code",
   "execution_count": 1,
   "metadata": {},
   "outputs": [],
   "source": [
    "from time import time\n",
    "import os\n",
    "import pandas as pd\n",
    "import numpy as np\n",
    "from pathlib import Path\n",
    "from datetime import datetime\n",
    "from tqdm import tqdm\n",
    "\n",
    "\n",
    "if not \"root\" in locals():\n",
    "    current_path = Path(os.getcwd())\n",
    "    root = current_path.parent.absolute()\n",
    "os.chdir(root)\n",
    "    \n",
    "from examples.example_utils import add_AR_cols\n",
    "from examples.example_utils import create_binary_box\n",
    "from sklearn.metrics import confusion_matrix, ConfusionMatrixDisplay\n",
    "from TinyAutoML.Models import *\n",
    "from TinyAutoML import MetaPipeline"
   ]
  },
  {
   "cell_type": "code",
   "execution_count": 3,
   "metadata": {},
   "outputs": [],
   "source": [
    "def make_benchmark(X, y, modelType, test_train_split = 0.8, metrics = \"accuracy\", pools = [None, None, None, None]):\n",
    "    print(modelType)\n",
    "    cut = round(len(y) * test_train_split)\n",
    "\n",
    "    X_train, X_test = X[:cut], X[cut:]\n",
    "    y_train, y_test = y[:cut], y[cut:]\n",
    "    \n",
    "    model00 = MetaPipeline(modelType(comprehensiveSearch=False, parameterTuning=False, metrics = metrics))\n",
    "    model01 = MetaPipeline(modelType(comprehensiveSearch=False, parameterTuning=True, metrics = metrics))\n",
    "    model10 = MetaPipeline(modelType(comprehensiveSearch=True, parameterTuning=False, metrics = metrics))\n",
    "    #model11 = MetaPipeline(modelType(comprehensiveSearch=True, parameterTuning=True))\n",
    "    \n",
    "    t0 = time()\n",
    "    \n",
    "    model00.fit(X_train, y_train, pool=pools[0])\n",
    "    t1 = time()\n",
    "    \n",
    "    model01.fit(X_train, y_train, pool=pools[1])\n",
    "    t2 = time()\n",
    "    \n",
    "    model10.fit(X_train, y_train, pool=pools[2])\n",
    "    t3 = time()\n",
    "    \n",
    "    #model11.fit(X_train, y_train, pool=pools[3])\n",
    "    #t4 = time()\n",
    "    \n",
    "    times = [t1-t0,\n",
    "             t2-t1,\n",
    "             t3-t2,\n",
    "             #t4-t3\n",
    "             ]\n",
    "    print(times)\n",
    "    scores = [model00.score(X_test, y_test),\n",
    "              model01.score(X_test, y_test),\n",
    "              model10.score(X_test, y_test),\n",
    "              #model11.score(X_test, y_test)\n",
    "              ]\n",
    "    print(scores)\n",
    "    models = [model00, model01, model10]\n",
    "    \n",
    "    return times, models"
   ]
  },
  {
   "cell_type": "code",
   "execution_count": null,
   "metadata": {},
   "outputs": [],
   "source": [
    "df = pd.read_csv('examples/database.csv')\n",
    "df['Date'] = pd.to_datetime(df['Date'])\n",
    "df = create_binary_box(df, relative_threshold = 0.05, box_length=5).set_index(['Date']).dropna(axis = 0)\n",
    "df = add_AR_cols(df,7).dropna(axis = 0)\n",
    "X,y = df.drop('Box', axis=1)[:'2020'], df['Box'][:'2020']\n",
    "\n",
    "models = []\n",
    "times = []\n",
    "pools = [None, None, None, None]\n",
    "for i, modelType in enumerate([BestModel, OneRulerForAll]):\n",
    "    \n",
    "    \n",
    "    t, m = make_benchmark(X, y, modelType, pools = pools)\n",
    "    models.append(m)\n",
    "    times.append(t)\n",
    "    \n",
    "    if i == 0:\n",
    "        pools = [model.get_pool() for model in m]"
   ]
  },
  {
   "cell_type": "code",
   "execution_count": null,
   "metadata": {},
   "outputs": [],
   "source": []
  }
 ],
 "metadata": {
  "interpreter": {
   "hash": "532c53cb3a9be90ef91a294ca80378ed859131741d038bbea018585e98254512"
  },
  "kernelspec": {
   "display_name": "Python 3.9.12 ('tinyautoml_minimal')",
   "language": "python",
   "name": "python3"
  },
  "language_info": {
   "codemirror_mode": {
    "name": "ipython",
    "version": 3
   },
   "file_extension": ".py",
   "mimetype": "text/x-python",
   "name": "python",
   "nbconvert_exporter": "python",
   "pygments_lexer": "ipython3",
   "version": "3.9.12"
  },
  "orig_nbformat": 4
 },
 "nbformat": 4,
 "nbformat_minor": 2
}
